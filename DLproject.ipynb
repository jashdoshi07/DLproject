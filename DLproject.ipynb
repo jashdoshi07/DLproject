{
 "cells": [
  {
   "cell_type": "code",
   "execution_count": 1,
   "id": "00c77b6f",
   "metadata": {},
   "outputs": [],
   "source": [
    "import numpy as np"
   ]
  },
  {
   "cell_type": "code",
   "execution_count": 2,
   "id": "87772dc0",
   "metadata": {},
   "outputs": [],
   "source": [
    "import torch\n",
    "from torch.utils.data.dataset import Dataset  # For custom data-sets\n",
    "from torchvision import transforms\n",
    "from PIL import Image\n",
    "import glob\n",
    "\n"
   ]
  },
  {
   "cell_type": "code",
   "execution_count": 3,
   "id": "fb37b1e7",
   "metadata": {},
   "outputs": [],
   "source": [
    "import os\n",
    "import numpy as np"
   ]
  },
  {
   "cell_type": "code",
   "execution_count": 24,
   "id": "4966bd68",
   "metadata": {},
   "outputs": [],
   "source": [
    "#datagenerator for 90 degree rotation\n",
    "class CustomDataset(Dataset):\n",
    "    def __init__(self, root_dir, transform = None):   # initial logic happens like transform\n",
    "\n",
    "        self.root_dir = root_dir\n",
    "        image_list = []\n",
    "        for filename in os.listdir(self.root_dir):\n",
    "            image_list.append(filename)\n",
    "        \n",
    "        self.image_list = image_list\n",
    "        \n",
    "    \n",
    "    def __len__(self):  # return count of sample we have\n",
    "        return len(self.image_list)\n",
    "    \n",
    "    \n",
    "    def __getitem__(self,index):\n",
    "        \n",
    "        image = Image.open(self.root_dir + self.image_list[index])\n",
    "        image = image.rotate(90)\n",
    "        if new = 1:\n",
    "            image = \n",
    "        image = np.asarray(image)\n",
    " \n",
    "        return image\n",
    "\n"
   ]
  },
  {
   "cell_type": "code",
   "execution_count": 25,
   "id": "e37e7b76",
   "metadata": {},
   "outputs": [],
   "source": [
    "custom_img = CustomDataset(path)"
   ]
  },
  {
   "cell_type": "code",
   "execution_count": 26,
   "id": "ef3929dd",
   "metadata": {},
   "outputs": [],
   "source": [
    "train_loader = torch.utils.data.DataLoader(custom_img, batch_size=32, num_workers=1)"
   ]
  },
  {
   "cell_type": "code",
   "execution_count": 27,
   "id": "2b85dfa6",
   "metadata": {},
   "outputs": [
    {
     "name": "stderr",
     "output_type": "stream",
     "text": [
      "/ext3/miniconda3/lib/python3.8/site-packages/torch/utils/data/_utils/collate.py:63: UserWarning: The given NumPy array is not writeable, and PyTorch does not support non-writeable tensors. This means you can write to the underlying (supposedly non-writeable) NumPy array using the tensor. You may want to copy the array to protect its data or make it writeable before converting it to a tensor. This type of warning will be suppressed for the rest of this program. (Triggered internally at  /pytorch/torch/csrc/utils/tensor_numpy.cpp:143.)\n",
      "  return default_collate([torch.as_tensor(b) for b in batch])\n"
     ]
    }
   ],
   "source": [
    "im = (iter(train_loader))"
   ]
  },
  {
   "cell_type": "code",
   "execution_count": 28,
   "id": "507f5451",
   "metadata": {},
   "outputs": [],
   "source": [
    "image = next(im)"
   ]
  },
  {
   "cell_type": "code",
   "execution_count": 29,
   "id": "e9c50b94",
   "metadata": {},
   "outputs": [
    {
     "name": "stdout",
     "output_type": "stream",
     "text": [
      "torch.Size([32, 96, 96, 3])\n"
     ]
    }
   ],
   "source": [
    "print(image.shape)"
   ]
  },
  {
   "cell_type": "code",
   "execution_count": null,
   "id": "73052e4a",
   "metadata": {},
   "outputs": [],
   "source": [
    "#new day new start"
   ]
  },
  {
   "cell_type": "code",
   "execution_count": 117,
   "id": "22994cf8",
   "metadata": {},
   "outputs": [],
   "source": [
    "class CustomDataset(Dataset):\n",
    "    def __init__(self, root_dir, labels, transform = None):   # initial logic happens like transform\n",
    "\n",
    "        self.root_dir = root_dir\n",
    "        image_list = []\n",
    "        \n",
    "        #normalizing images\n",
    "        self.img_means = np.array([0.49865985, 0.47058615, 0.41846788])\n",
    "        self.img_stds = np.array([0.28398806, 0.2754099, 0.29393724])\n",
    "        \n",
    "        \n",
    "        \n",
    "        self.transform = transforms.Compose([transforms.ToTensor(),\n",
    "                                             transforms.Normalize(mean=self.img_means, std=self.img_stds)])\n",
    "        \n",
    "        \n",
    "        self.final_images = transforms.Compose([transforms.ToTensor()])\n",
    "        \n",
    "        #self.transform = transform\n",
    "        \n",
    "        for filename in os.listdir(self.root_dir):\n",
    "            image_list.append(filename)\n",
    "        \n",
    "        self.image_list = image_list\n",
    "        self.labels = labels\n",
    "        \n",
    "    \n",
    "    def __len__(self):  # return count of sample we have\n",
    "        return len(self.image_list)\n",
    "    \n",
    "    \n",
    "    def __getitem__(self, index):\n",
    "        \n",
    "        image = Image.open(self.root_dir + self.image_list[index])\n",
    "        label = self.labels[index]\n",
    "        \n",
    "        #if self.transform is not None:\n",
    "         #   image = self.final_image(image)\n",
    "\n",
    "        \n",
    "        tensor_image = self.final_images(image)\n",
    "        #print(tensor_image.shape)\n",
    "        \n",
    "        \n",
    "        #image = image.rotate(90)\n",
    "        \n",
    "        \n",
    "        #image = np.asarray(image)\n",
    "        \n",
    "        \n",
    "        #new change 25 april\n",
    "        \n",
    "        #tensor_image = torch.Tensor(image)\n",
    "        \n",
    "        \n",
    "        #tensor_image = tensor_image.permute((2,0,1))\n",
    "        \n",
    "        #print(tensor_image.shape)\n",
    "\n",
    "        output_list = []\n",
    "        output_list.append(tensor_image)\n",
    "\n",
    "        #for labels converting to one-hot encode\n",
    "        ones = torch.sparse.torch.eye(800)\n",
    "        shape = label.shape\n",
    "        res = ones.index_select(0, label.view(-1).type(torch.int64))\n",
    "        final_labels = res.view(*shape, res.shape[-1])\n",
    "\n",
    "\n",
    "        output_list.append(label)\n",
    "        output_list.append(final_labels)\n",
    "\n",
    "        return output_list"
   ]
  },
  {
   "cell_type": "code",
   "execution_count": 118,
   "id": "mysterious-replication",
   "metadata": {},
   "outputs": [
    {
     "ename": "IndentationError",
     "evalue": "unexpected indent (<ipython-input-118-a0ccf90c0fa8>, line 3)",
     "output_type": "error",
     "traceback": [
      "\u001b[0;36m  File \u001b[0;32m\"<ipython-input-118-a0ccf90c0fa8>\"\u001b[0;36m, line \u001b[0;32m3\u001b[0m\n\u001b[0;31m    self.mask_tf = transforms.Compose([transforms.ToTensor()])\u001b[0m\n\u001b[0m    ^\u001b[0m\n\u001b[0;31mIndentationError\u001b[0m\u001b[0;31m:\u001b[0m unexpected indent\n"
     ]
    }
   ],
   "source": [
    "tansformers = transforms.Compose([transforms.ToTensor(),\n",
    "                                  transforms.Normalize(mean=config.img_means, std=config.img_stds)])\n",
    "                self.mask_tf = transforms.Compose([transforms.ToTensor()])"
   ]
  },
  {
   "cell_type": "code",
   "execution_count": 119,
   "id": "a277bbf0",
   "metadata": {},
   "outputs": [],
   "source": [
    "train_path = 'Dataset/final_data/dataset/train/'\n",
    "valid_path = 'Dataset/final_data/dataset/val/'"
   ]
  },
  {
   "cell_type": "code",
   "execution_count": 120,
   "id": "7edcab8b",
   "metadata": {},
   "outputs": [],
   "source": [
    "train_label_path = 'Dataset/final_data/dataset/train_label_tensor.pt'"
   ]
  },
  {
   "cell_type": "code",
   "execution_count": 121,
   "id": "9ab722e5",
   "metadata": {},
   "outputs": [],
   "source": [
    "validation_labels_path = 'Dataset/final_data/dataset/val_label_tensor.pt'"
   ]
  },
  {
   "cell_type": "code",
   "execution_count": 122,
   "id": "d43cc530",
   "metadata": {},
   "outputs": [],
   "source": [
    "X = torch.load(train_label_path)"
   ]
  },
  {
   "cell_type": "code",
   "execution_count": 123,
   "id": "59a4babf",
   "metadata": {},
   "outputs": [],
   "source": [
    "Y = torch.load(validation_labels_path)"
   ]
  },
  {
   "cell_type": "code",
   "execution_count": 124,
   "id": "1d8a4a88",
   "metadata": {},
   "outputs": [],
   "source": [
    "dataset = CustomDataset(train_path, X)"
   ]
  },
  {
   "cell_type": "code",
   "execution_count": 125,
   "id": "f26179d3",
   "metadata": {},
   "outputs": [],
   "source": [
    "train_dataloader = torch.utils.data.DataLoader(dataset, batch_size=64, num_workers=2)"
   ]
  },
  {
   "cell_type": "code",
   "execution_count": 126,
   "id": "3ea650ed",
   "metadata": {},
   "outputs": [],
   "source": [
    "val_dataset = CustomDataset(valid_path, Y)"
   ]
  },
  {
   "cell_type": "code",
   "execution_count": 127,
   "id": "df9ad6d1",
   "metadata": {},
   "outputs": [],
   "source": [
    "validation_dataloader = torch.utils.data.DataLoader(val_dataset, batch_size = 64, num_workers = 2)"
   ]
  },
  {
   "cell_type": "code",
   "execution_count": 128,
   "id": "1955069b",
   "metadata": {},
   "outputs": [],
   "source": [
    "#First simple architecture "
   ]
  },
  {
   "cell_type": "code",
   "execution_count": 129,
   "id": "42aa7e92",
   "metadata": {},
   "outputs": [],
   "source": [
    "import torch.nn as nn\n",
    "import torch.nn.functional as F"
   ]
  },
  {
   "cell_type": "code",
   "execution_count": 130,
   "id": "e54f8174",
   "metadata": {},
   "outputs": [],
   "source": [
    "class CNN(nn.Module):\n",
    "    def __init__(self):\n",
    "        super().__init__()\n",
    "\n",
    "        self.cnn_block_1 = nn.Sequential(\n",
    "          nn.Conv2d(3, 128, kernel_size=3, padding=1, stride=1),\n",
    "          nn.ReLU(inplace=True),\n",
    "          nn.BatchNorm2d(128),\n",
    "          nn.MaxPool2d(kernel_size=4, stride=4),\n",
    "\n",
    "          nn.Conv2d(128, 256, kernel_size=3, padding=1, stride=1),\n",
    "          nn.ReLU(inplace=True),\n",
    "          nn.BatchNorm2d(256),\n",
    "          nn.MaxPool2d(kernel_size=4, stride=4),\n",
    "\n",
    "        )\n",
    "\n",
    "\n",
    "        self.cnn_block_2 = nn.Sequential(\n",
    "          nn.Conv2d(256, 512, kernel_size=3, padding=1, stride=1),\n",
    "          nn.ReLU(inplace=True),\n",
    "          nn.BatchNorm2d(512),\n",
    "          nn.MaxPool2d(kernel_size=2, stride=2))\n",
    "\n",
    "        self.cnn_block_3 = torch.nn.Sequential(\n",
    "          nn.Conv2d(32, 64, kernel_size=7, padding=3, stride=1),\n",
    "          nn.ReLU(inplace=True),\n",
    "          nn.BatchNorm2d(64),\n",
    "\n",
    "          nn.Conv2d(64, 32, kernel_size=7, padding=3, stride=1),\n",
    "          nn.ReLU(inplace=True),\n",
    "          nn.BatchNorm2d(32),\n",
    "        )\n",
    "\n",
    "        self.linear_layers = nn.Linear(4608, 800)\n",
    "    \n",
    "\n",
    "    def forward(self, x):\n",
    "        x = self.cnn_block_1(x)\n",
    "        x = self.cnn_block_2(x)\n",
    "        #x = self.cnn_block_2(x) + x\n",
    "        x = x.view(x.size(0), -1) # flatten\n",
    "        x = self.linear_layers(x)\n",
    "        #x = self.linear_layers(x).view(x.size(0))\n",
    "        #print(x.shape)\n",
    "        #x = F.log_softmax(x, dim = 1)\n",
    "        return x"
   ]
  },
  {
   "cell_type": "code",
   "execution_count": null,
   "id": "30bcf373",
   "metadata": {},
   "outputs": [],
   "source": []
  },
  {
   "cell_type": "code",
   "execution_count": 131,
   "id": "f7b5191e",
   "metadata": {},
   "outputs": [],
   "source": [
    "#ResNet models"
   ]
  },
  {
   "cell_type": "code",
   "execution_count": 132,
   "id": "e2af8d9d",
   "metadata": {},
   "outputs": [],
   "source": [
    "import torch\n",
    "import torch.nn as nn\n",
    "import torch.nn.functional as F\n",
    "\n",
    "\n",
    "class block(nn.Module):\n",
    "    def __init__(\n",
    "        self, in_channels, intermediate_channels, identity_downsample=None, stride=1\n",
    "    ):\n",
    "        super(block, self).__init__()\n",
    "        self.expansion = 4\n",
    "        self.conv1 = nn.Conv2d(\n",
    "            in_channels, intermediate_channels, kernel_size=1, stride=1, padding=0, bias=False\n",
    "        )\n",
    "        self.bn1 = nn.BatchNorm2d(intermediate_channels)\n",
    "        self.conv2 = nn.Conv2d(\n",
    "            intermediate_channels,\n",
    "            intermediate_channels,\n",
    "            kernel_size=3,\n",
    "            stride=stride,\n",
    "            padding=1,\n",
    "            bias=False\n",
    "        )\n",
    "        self.bn2 = nn.BatchNorm2d(intermediate_channels)\n",
    "        self.conv3 = nn.Conv2d(\n",
    "            intermediate_channels,\n",
    "            intermediate_channels * self.expansion,\n",
    "            kernel_size=1,\n",
    "            stride=1,\n",
    "            padding=0,\n",
    "            bias=False\n",
    "        )\n",
    "        self.bn3 = nn.BatchNorm2d(intermediate_channels * self.expansion)\n",
    "        self.relu = nn.ReLU()\n",
    "        self.identity_downsample = identity_downsample\n",
    "        self.stride = stride\n",
    "\n",
    "    def forward(self, x):\n",
    "        identity = x.clone()\n",
    "\n",
    "        x = self.conv1(x)\n",
    "        x = self.bn1(x)\n",
    "        x = self.relu(x)\n",
    "        x = self.conv2(x)\n",
    "        x = self.bn2(x)\n",
    "        x = self.relu(x)\n",
    "        x = self.conv3(x)\n",
    "        x = self.bn3(x)\n",
    "\n",
    "        if self.identity_downsample is not None:\n",
    "            identity = self.identity_downsample(identity)\n",
    "\n",
    "        x += identity\n",
    "        x = self.relu(x)\n",
    "        return x\n",
    "\n",
    "\n",
    "class ResNet(nn.Module):\n",
    "    def __init__(self, block, layers, image_channels, num_classes):\n",
    "        super(ResNet, self).__init__()\n",
    "        self.in_channels = 64\n",
    "        self.conv1 = nn.Conv2d(image_channels, 64, kernel_size=7, stride=2, padding=3, bias=False)\n",
    "        self.bn1 = nn.BatchNorm2d(64)\n",
    "        self.relu = nn.ReLU()\n",
    "        self.maxpool = nn.MaxPool2d(kernel_size=3, stride=2, padding=1)\n",
    "\n",
    "        # Essentially the entire ResNet architecture are in these 4 lines below\n",
    "        self.layer1 = self._make_layer(\n",
    "            block, layers[0], intermediate_channels=64, stride=1\n",
    "        )\n",
    "        self.layer2 = self._make_layer(\n",
    "            block, layers[1], intermediate_channels=128, stride=2\n",
    "        )\n",
    "        self.layer3 = self._make_layer(\n",
    "            block, layers[2], intermediate_channels=256, stride=2\n",
    "        )\n",
    "        self.layer4 = self._make_layer(\n",
    "            block, layers[3], intermediate_channels=512, stride=2\n",
    "        )\n",
    "\n",
    "        self.avgpool = nn.AdaptiveAvgPool2d((1, 1))\n",
    "        self.fc = nn.Linear(256 * 8, 1000)\n",
    "        self.fc2 = nn.Linear(1000, num_classes)\n",
    "\n",
    "    def forward(self, x):\n",
    "        x = self.conv1(x)\n",
    "        x = self.bn1(x)\n",
    "        x = self.relu(x)\n",
    "        x = self.maxpool(x)\n",
    "        x = self.layer1(x)\n",
    "        x = self.layer2(x)\n",
    "        x = self.layer3(x)\n",
    "        #print(x.shape)\n",
    "        x = self.layer4(x)\n",
    "        #print(x.shape)\n",
    "        x = self.avgpool(x)\n",
    "        #print(x.shape)\n",
    "        x = x.reshape(x.shape[0], -1)\n",
    "        #print(x.shape)\n",
    "        x = self.fc(x)\n",
    "        #print(x.shape)\n",
    "        x = self.fc2(x)\n",
    "        \n",
    "\n",
    "        #x = F.log_softmax(x, dim = 1)\n",
    "\n",
    "        return x\n",
    "\n",
    "    def _make_layer(self, block, num_residual_blocks, intermediate_channels, stride):\n",
    "        identity_downsample = None\n",
    "        layers = []\n",
    "\n",
    "        # Either if we half the input space for ex, 56x56 -> 28x28 (stride=2), or channels changes\n",
    "        # we need to adapt the Identity (skip connection) so it will be able to be added\n",
    "        # to the layer that's ahead\n",
    "        if stride != 1 or self.in_channels != intermediate_channels * 4:\n",
    "            identity_downsample = nn.Sequential(\n",
    "                nn.Conv2d(\n",
    "                    self.in_channels,\n",
    "                    intermediate_channels * 4,\n",
    "                    kernel_size=1,\n",
    "                    stride=stride,\n",
    "                    bias=False\n",
    "                ),\n",
    "                nn.BatchNorm2d(intermediate_channels * 4),\n",
    "            )\n",
    "\n",
    "        layers.append(\n",
    "            block(self.in_channels, intermediate_channels, identity_downsample, stride)\n",
    "        )\n",
    "\n",
    "        # The expansion size is always 4 for ResNet 50,101,152\n",
    "        self.in_channels = intermediate_channels * 4\n",
    "\n",
    "        # For example for first resnet layer: 256 will be mapped to 64 as intermediate layer,\n",
    "        # then finally back to 256. Hence no identity downsample is needed, since stride = 1,\n",
    "        # and also same amount of channels.\n",
    "        for i in range(num_residual_blocks - 1):\n",
    "            layers.append(block(self.in_channels, intermediate_channels))\n",
    "\n",
    "        return nn.Sequential(*layers)\n",
    "\n",
    "\n"
   ]
  },
  {
   "cell_type": "code",
   "execution_count": 133,
   "id": "60570819",
   "metadata": {},
   "outputs": [],
   "source": [
    "#Code for customizing resnets to ResnNet50, 101, and further more"
   ]
  },
  {
   "cell_type": "code",
   "execution_count": 134,
   "id": "ab3cb47a",
   "metadata": {},
   "outputs": [],
   "source": [
    "\n",
    "def ResNet50(img_channel=3, num_classes=800):\n",
    "    return ResNet(block, [3, 4, 6, 3], img_channel, num_classes)\n",
    "\n",
    "\n",
    "def ResNet101(img_channel=3, num_classes=800):\n",
    "    return ResNet(block, [3, 4, 23, 3], img_channel, num_classes)\n",
    "\n",
    "\n",
    "def ResNet152(img_channel=3, num_classes=800):\n",
    "    return ResNet(block, [3, 8, 36, 3], img_channel, num_classes)\n",
    "\n"
   ]
  },
  {
   "cell_type": "code",
   "execution_count": 135,
   "id": "708bddfa",
   "metadata": {},
   "outputs": [],
   "source": [
    "from tqdm.notebook import tqdm"
   ]
  },
  {
   "cell_type": "code",
   "execution_count": null,
   "id": "eb8422cf",
   "metadata": {},
   "outputs": [],
   "source": []
  },
  {
   "cell_type": "code",
   "execution_count": 140,
   "id": "483f06fc",
   "metadata": {},
   "outputs": [
    {
     "data": {
      "application/vnd.jupyter.widget-view+json": {
       "model_id": "3be34c2bb4124eeea699a7effcfd6fda",
       "version_major": 2,
       "version_minor": 0
      },
      "text/plain": [
       "  0%|          | 0/50 [00:00<?, ?it/s]"
      ]
     },
     "metadata": {},
     "output_type": "display_data"
    },
    {
     "data": {
      "application/vnd.jupyter.widget-view+json": {
       "model_id": "",
       "version_major": 2,
       "version_minor": 0
      },
      "text/plain": [
       "  0%|          | 0/400 [00:00<?, ?it/s]"
      ]
     },
     "metadata": {},
     "output_type": "display_data"
    },
    {
     "name": "stdout",
     "output_type": "stream",
     "text": [
      "{'train_loss': 0.09696897288784384, 'validation_loss': 0.12313575255684554, 'train_accuracy': 0.004140625, 'validation_accuracy': 0.00125}\n",
      "model saved\n"
     ]
    },
    {
     "data": {
      "application/vnd.jupyter.widget-view+json": {
       "model_id": "",
       "version_major": 2,
       "version_minor": 0
      },
      "text/plain": [
       "  0%|          | 0/400 [00:00<?, ?it/s]"
      ]
     },
     "metadata": {},
     "output_type": "display_data"
    },
    {
     "name": "stdout",
     "output_type": "stream",
     "text": [
      "{'train_loss': 0.09461434472352266, 'validation_loss': 0.13185149971395732, 'train_accuracy': 0.0028515625, 'validation_accuracy': 0.0012109375}\n",
      "model saved\n"
     ]
    },
    {
     "data": {
      "application/vnd.jupyter.widget-view+json": {
       "model_id": "",
       "version_major": 2,
       "version_minor": 0
      },
      "text/plain": [
       "  0%|          | 0/400 [00:00<?, ?it/s]"
      ]
     },
     "metadata": {},
     "output_type": "display_data"
    },
    {
     "name": "stdout",
     "output_type": "stream",
     "text": [
      "{'train_loss': 0.09326185933314264, 'validation_loss': 0.14791861983947455, 'train_accuracy': 0.003203125, 'validation_accuracy': 0.001328125}\n",
      "model saved\n"
     ]
    },
    {
     "data": {
      "application/vnd.jupyter.widget-view+json": {
       "model_id": "",
       "version_major": 2,
       "version_minor": 0
      },
      "text/plain": [
       "  0%|          | 0/400 [00:00<?, ?it/s]"
      ]
     },
     "metadata": {},
     "output_type": "display_data"
    },
    {
     "name": "stdout",
     "output_type": "stream",
     "text": [
      "{'train_loss': 0.09272280526347458, 'validation_loss': 0.19204021138139069, 'train_accuracy': 0.003203125, 'validation_accuracy': 0.0012890625}\n",
      "model saved\n"
     ]
    },
    {
     "data": {
      "application/vnd.jupyter.widget-view+json": {
       "model_id": "",
       "version_major": 2,
       "version_minor": 0
      },
      "text/plain": [
       "  0%|          | 0/400 [00:00<?, ?it/s]"
      ]
     },
     "metadata": {},
     "output_type": "display_data"
    },
    {
     "name": "stdout",
     "output_type": "stream",
     "text": [
      "{'train_loss': 0.09228023717179895, 'validation_loss': 0.2242668478563428, 'train_accuracy': 0.0033984375, 'validation_accuracy': 0.00125}\n",
      "model saved\n"
     ]
    },
    {
     "data": {
      "application/vnd.jupyter.widget-view+json": {
       "model_id": "",
       "version_major": 2,
       "version_minor": 0
      },
      "text/plain": [
       "  0%|          | 0/400 [00:00<?, ?it/s]"
      ]
     },
     "metadata": {},
     "output_type": "display_data"
    },
    {
     "name": "stdout",
     "output_type": "stream",
     "text": [
      "{'train_loss': 0.09186087287031114, 'validation_loss': 0.2377006502263248, 'train_accuracy': 0.0042578125, 'validation_accuracy': 0.00125}\n",
      "model saved\n"
     ]
    },
    {
     "data": {
      "application/vnd.jupyter.widget-view+json": {
       "model_id": "",
       "version_major": 2,
       "version_minor": 0
      },
      "text/plain": [
       "  0%|          | 0/400 [00:00<?, ?it/s]"
      ]
     },
     "metadata": {},
     "output_type": "display_data"
    },
    {
     "name": "stdout",
     "output_type": "stream",
     "text": [
      "{'train_loss': 0.09163720429874957, 'validation_loss': 0.3034133777860552, 'train_accuracy': 0.0042578125, 'validation_accuracy': 0.0012109375}\n",
      "model saved\n"
     ]
    },
    {
     "data": {
      "application/vnd.jupyter.widget-view+json": {
       "model_id": "",
       "version_major": 2,
       "version_minor": 0
      },
      "text/plain": [
       "  0%|          | 0/400 [00:00<?, ?it/s]"
      ]
     },
     "metadata": {},
     "output_type": "display_data"
    },
    {
     "name": "stdout",
     "output_type": "stream",
     "text": [
      "{'train_loss': 0.09147611517459155, 'validation_loss': 0.25707246735692024, 'train_accuracy': 0.005234375, 'validation_accuracy': 0.00125}\n",
      "model saved\n"
     ]
    },
    {
     "data": {
      "application/vnd.jupyter.widget-view+json": {
       "model_id": "",
       "version_major": 2,
       "version_minor": 0
      },
      "text/plain": [
       "  0%|          | 0/400 [00:00<?, ?it/s]"
      ]
     },
     "metadata": {},
     "output_type": "display_data"
    },
    {
     "name": "stdout",
     "output_type": "stream",
     "text": [
      "{'train_loss': 0.09131606029346585, 'validation_loss': 0.3103453454840928, 'train_accuracy': 0.004609375, 'validation_accuracy': 0.00125}\n",
      "model saved\n"
     ]
    },
    {
     "data": {
      "application/vnd.jupyter.widget-view+json": {
       "model_id": "",
       "version_major": 2,
       "version_minor": 0
      },
      "text/plain": [
       "  0%|          | 0/400 [00:00<?, ?it/s]"
      ]
     },
     "metadata": {},
     "output_type": "display_data"
    },
    {
     "name": "stdout",
     "output_type": "stream",
     "text": [
      "{'train_loss': 0.09122695975005626, 'validation_loss': 0.23257183929905295, 'train_accuracy': 0.0054296875, 'validation_accuracy': 0.0012890625}\n",
      "model saved\n"
     ]
    },
    {
     "data": {
      "application/vnd.jupyter.widget-view+json": {
       "model_id": "",
       "version_major": 2,
       "version_minor": 0
      },
      "text/plain": [
       "  0%|          | 0/400 [00:00<?, ?it/s]"
      ]
     },
     "metadata": {},
     "output_type": "display_data"
    },
    {
     "name": "stdout",
     "output_type": "stream",
     "text": [
      "{'train_loss': 0.09094659314490855, 'validation_loss': 0.322797862906009, 'train_accuracy': 0.005703125, 'validation_accuracy': 0.0012109375}\n",
      "model saved\n"
     ]
    },
    {
     "data": {
      "application/vnd.jupyter.widget-view+json": {
       "model_id": "",
       "version_major": 2,
       "version_minor": 0
      },
      "text/plain": [
       "  0%|          | 0/400 [00:00<?, ?it/s]"
      ]
     },
     "metadata": {},
     "output_type": "display_data"
    },
    {
     "name": "stdout",
     "output_type": "stream",
     "text": [
      "{'train_loss': 0.09090453968383372, 'validation_loss': 0.24715190985240043, 'train_accuracy': 0.005859375, 'validation_accuracy': 0.001484375}\n",
      "model saved\n"
     ]
    },
    {
     "data": {
      "application/vnd.jupyter.widget-view+json": {
       "model_id": "",
       "version_major": 2,
       "version_minor": 0
      },
      "text/plain": [
       "  0%|          | 0/400 [00:00<?, ?it/s]"
      ]
     },
     "metadata": {},
     "output_type": "display_data"
    },
    {
     "name": "stdout",
     "output_type": "stream",
     "text": [
      "{'train_loss': 0.0907685262337327, 'validation_loss': 0.25739962233230473, 'train_accuracy': 0.0055859375, 'validation_accuracy': 0.0012890625}\n",
      "model saved\n"
     ]
    },
    {
     "data": {
      "application/vnd.jupyter.widget-view+json": {
       "model_id": "",
       "version_major": 2,
       "version_minor": 0
      },
      "text/plain": [
       "  0%|          | 0/400 [00:00<?, ?it/s]"
      ]
     },
     "metadata": {},
     "output_type": "display_data"
    },
    {
     "name": "stdout",
     "output_type": "stream",
     "text": [
      "{'train_loss': 0.09049044290557504, 'validation_loss': 0.26423086716793476, 'train_accuracy': 0.006875, 'validation_accuracy': 0.001328125}\n",
      "model saved\n"
     ]
    },
    {
     "data": {
      "application/vnd.jupyter.widget-view+json": {
       "model_id": "",
       "version_major": 2,
       "version_minor": 0
      },
      "text/plain": [
       "  0%|          | 0/400 [00:00<?, ?it/s]"
      ]
     },
     "metadata": {},
     "output_type": "display_data"
    },
    {
     "name": "stdout",
     "output_type": "stream",
     "text": [
      "{'train_loss': 0.09032906426116824, 'validation_loss': 0.29288560947403314, 'train_accuracy': 0.006640625, 'validation_accuracy': 0.0013671875}\n",
      "model saved\n"
     ]
    },
    {
     "data": {
      "application/vnd.jupyter.widget-view+json": {
       "model_id": "",
       "version_major": 2,
       "version_minor": 0
      },
      "text/plain": [
       "  0%|          | 0/400 [00:00<?, ?it/s]"
      ]
     },
     "metadata": {},
     "output_type": "display_data"
    },
    {
     "name": "stdout",
     "output_type": "stream",
     "text": [
      "{'train_loss': 0.09009254404343664, 'validation_loss': 0.28285076991654934, 'train_accuracy': 0.006484375, 'validation_accuracy': 0.0013671875}\n",
      "model saved\n"
     ]
    },
    {
     "data": {
      "application/vnd.jupyter.widget-view+json": {
       "model_id": "",
       "version_major": 2,
       "version_minor": 0
      },
      "text/plain": [
       "  0%|          | 0/400 [00:00<?, ?it/s]"
      ]
     },
     "metadata": {},
     "output_type": "display_data"
    },
    {
     "name": "stdout",
     "output_type": "stream",
     "text": [
      "{'train_loss': 0.09012774171307683, 'validation_loss': 0.3055174456443638, 'train_accuracy': 0.0059375, 'validation_accuracy': 0.001328125}\n",
      "model saved\n"
     ]
    },
    {
     "data": {
      "application/vnd.jupyter.widget-view+json": {
       "model_id": "",
       "version_major": 2,
       "version_minor": 0
      },
      "text/plain": [
       "  0%|          | 0/400 [00:00<?, ?it/s]"
      ]
     },
     "metadata": {},
     "output_type": "display_data"
    },
    {
     "name": "stdout",
     "output_type": "stream",
     "text": [
      "{'train_loss': 0.08971709977835417, 'validation_loss': 0.26257097684778274, 'train_accuracy': 0.0067578125, 'validation_accuracy': 0.0012109375}\n",
      "model saved\n"
     ]
    },
    {
     "data": {
      "application/vnd.jupyter.widget-view+json": {
       "model_id": "",
       "version_major": 2,
       "version_minor": 0
      },
      "text/plain": [
       "  0%|          | 0/400 [00:00<?, ?it/s]"
      ]
     },
     "metadata": {},
     "output_type": "display_data"
    },
    {
     "name": "stdout",
     "output_type": "stream",
     "text": [
      "{'train_loss': 0.08927230522967874, 'validation_loss': 0.32581411209888755, 'train_accuracy': 0.0071484375, 'validation_accuracy': 0.0012109375}\n",
      "model saved\n"
     ]
    },
    {
     "data": {
      "application/vnd.jupyter.widget-view+json": {
       "model_id": "",
       "version_major": 2,
       "version_minor": 0
      },
      "text/plain": [
       "  0%|          | 0/400 [00:00<?, ?it/s]"
      ]
     },
     "metadata": {},
     "output_type": "display_data"
    },
    {
     "name": "stdout",
     "output_type": "stream",
     "text": [
      "{'train_loss': 0.08917477201670408, 'validation_loss': 0.34874646849930285, 'train_accuracy': 0.00703125, 'validation_accuracy': 0.0012890625}\n",
      "model saved\n"
     ]
    },
    {
     "data": {
      "application/vnd.jupyter.widget-view+json": {
       "model_id": "",
       "version_major": 2,
       "version_minor": 0
      },
      "text/plain": [
       "  0%|          | 0/400 [00:00<?, ?it/s]"
      ]
     },
     "metadata": {},
     "output_type": "display_data"
    },
    {
     "name": "stdout",
     "output_type": "stream",
     "text": [
      "{'train_loss': 0.08897315151058137, 'validation_loss': 0.3408999773301184, 'train_accuracy': 0.006953125, 'validation_accuracy': 0.0013671875}\n",
      "model saved\n"
     ]
    },
    {
     "data": {
      "application/vnd.jupyter.widget-view+json": {
       "model_id": "",
       "version_major": 2,
       "version_minor": 0
      },
      "text/plain": [
       "  0%|          | 0/400 [00:00<?, ?it/s]"
      ]
     },
     "metadata": {},
     "output_type": "display_data"
    },
    {
     "name": "stdout",
     "output_type": "stream",
     "text": [
      "{'train_loss': 0.08857656196691095, 'validation_loss': 0.27267910827882585, 'train_accuracy': 0.0083984375, 'validation_accuracy': 0.001328125}\n",
      "model saved\n"
     ]
    },
    {
     "data": {
      "application/vnd.jupyter.widget-view+json": {
       "model_id": "",
       "version_major": 2,
       "version_minor": 0
      },
      "text/plain": [
       "  0%|          | 0/400 [00:00<?, ?it/s]"
      ]
     },
     "metadata": {},
     "output_type": "display_data"
    },
    {
     "name": "stdout",
     "output_type": "stream",
     "text": [
      "{'train_loss': 0.08801810349337756, 'validation_loss': 0.35866612223908306, 'train_accuracy': 0.008828125, 'validation_accuracy': 0.0012109375}\n",
      "model saved\n"
     ]
    },
    {
     "data": {
      "application/vnd.jupyter.widget-view+json": {
       "model_id": "",
       "version_major": 2,
       "version_minor": 0
      },
      "text/plain": [
       "  0%|          | 0/400 [00:00<?, ?it/s]"
      ]
     },
     "metadata": {},
     "output_type": "display_data"
    },
    {
     "name": "stdout",
     "output_type": "stream",
     "text": [
      "{'train_loss': 0.08764148198999465, 'validation_loss': 0.26771964330226183, 'train_accuracy': 0.0076171875, 'validation_accuracy': 0.0012890625}\n",
      "model saved\n"
     ]
    },
    {
     "data": {
      "application/vnd.jupyter.widget-view+json": {
       "model_id": "",
       "version_major": 2,
       "version_minor": 0
      },
      "text/plain": [
       "  0%|          | 0/400 [00:00<?, ?it/s]"
      ]
     },
     "metadata": {},
     "output_type": "display_data"
    },
    {
     "name": "stdout",
     "output_type": "stream",
     "text": [
      "{'train_loss': 0.08711567086167633, 'validation_loss': 0.258617995493114, 'train_accuracy': 0.0091015625, 'validation_accuracy': 0.0012890625}\n",
      "model saved\n"
     ]
    },
    {
     "data": {
      "application/vnd.jupyter.widget-view+json": {
       "model_id": "",
       "version_major": 2,
       "version_minor": 0
      },
      "text/plain": [
       "  0%|          | 0/400 [00:00<?, ?it/s]"
      ]
     },
     "metadata": {},
     "output_type": "display_data"
    },
    {
     "name": "stdout",
     "output_type": "stream",
     "text": [
      "{'train_loss': 0.0865077619906515, 'validation_loss': 0.3320162554085255, 'train_accuracy': 0.0106640625, 'validation_accuracy': 0.0016796875}\n",
      "model saved\n"
     ]
    },
    {
     "data": {
      "application/vnd.jupyter.widget-view+json": {
       "model_id": "",
       "version_major": 2,
       "version_minor": 0
      },
      "text/plain": [
       "  0%|          | 0/400 [00:00<?, ?it/s]"
      ]
     },
     "metadata": {},
     "output_type": "display_data"
    },
    {
     "name": "stdout",
     "output_type": "stream",
     "text": [
      "{'train_loss': 0.08590863551944494, 'validation_loss': 0.2818181084655225, 'train_accuracy': 0.0109765625, 'validation_accuracy': 0.0012890625}\n",
      "model saved\n"
     ]
    },
    {
     "data": {
      "application/vnd.jupyter.widget-view+json": {
       "model_id": "",
       "version_major": 2,
       "version_minor": 0
      },
      "text/plain": [
       "  0%|          | 0/400 [00:00<?, ?it/s]"
      ]
     },
     "metadata": {},
     "output_type": "display_data"
    },
    {
     "name": "stdout",
     "output_type": "stream",
     "text": [
      "{'train_loss': 0.08522876835428178, 'validation_loss': 0.2617322017904371, 'train_accuracy': 0.011171875, 'validation_accuracy': 0.001328125}\n",
      "model saved\n"
     ]
    },
    {
     "data": {
      "application/vnd.jupyter.widget-view+json": {
       "model_id": "",
       "version_major": 2,
       "version_minor": 0
      },
      "text/plain": [
       "  0%|          | 0/400 [00:00<?, ?it/s]"
      ]
     },
     "metadata": {},
     "output_type": "display_data"
    },
    {
     "name": "stdout",
     "output_type": "stream",
     "text": [
      "{'train_loss': 0.08429866570979357, 'validation_loss': 0.2734862382803112, 'train_accuracy': 0.01390625, 'validation_accuracy': 0.0012109375}\n",
      "model saved\n"
     ]
    },
    {
     "data": {
      "application/vnd.jupyter.widget-view+json": {
       "model_id": "",
       "version_major": 2,
       "version_minor": 0
      },
      "text/plain": [
       "  0%|          | 0/400 [00:00<?, ?it/s]"
      ]
     },
     "metadata": {},
     "output_type": "display_data"
    },
    {
     "name": "stdout",
     "output_type": "stream",
     "text": [
      "{'train_loss': 0.08356029585935175, 'validation_loss': 0.2331598708219826, 'train_accuracy': 0.0134765625, 'validation_accuracy': 0.0011328125}\n",
      "model saved\n"
     ]
    },
    {
     "data": {
      "application/vnd.jupyter.widget-view+json": {
       "model_id": "",
       "version_major": 2,
       "version_minor": 0
      },
      "text/plain": [
       "  0%|          | 0/400 [00:00<?, ?it/s]"
      ]
     },
     "metadata": {},
     "output_type": "display_data"
    },
    {
     "name": "stdout",
     "output_type": "stream",
     "text": [
      "{'train_loss': 0.08284929275512695, 'validation_loss': 0.2520125063322485, 'train_accuracy': 0.01453125, 'validation_accuracy': 0.001015625}\n",
      "model saved\n"
     ]
    },
    {
     "data": {
      "application/vnd.jupyter.widget-view+json": {
       "model_id": "",
       "version_major": 2,
       "version_minor": 0
      },
      "text/plain": [
       "  0%|          | 0/400 [00:00<?, ?it/s]"
      ]
     },
     "metadata": {},
     "output_type": "display_data"
    },
    {
     "name": "stdout",
     "output_type": "stream",
     "text": [
      "{'train_loss': 0.08197776273824274, 'validation_loss': 0.24682110585272313, 'train_accuracy': 0.01796875, 'validation_accuracy': 0.0009765625}\n",
      "model saved\n"
     ]
    },
    {
     "data": {
      "application/vnd.jupyter.widget-view+json": {
       "model_id": "",
       "version_major": 2,
       "version_minor": 0
      },
      "text/plain": [
       "  0%|          | 0/400 [00:00<?, ?it/s]"
      ]
     },
     "metadata": {},
     "output_type": "display_data"
    },
    {
     "name": "stdout",
     "output_type": "stream",
     "text": [
      "{'train_loss': 0.08137238198891282, 'validation_loss': 0.27203126134350897, 'train_accuracy': 0.016796875, 'validation_accuracy': 0.001328125}\n",
      "model saved\n"
     ]
    },
    {
     "data": {
      "application/vnd.jupyter.widget-view+json": {
       "model_id": "",
       "version_major": 2,
       "version_minor": 0
      },
      "text/plain": [
       "  0%|          | 0/400 [00:00<?, ?it/s]"
      ]
     },
     "metadata": {},
     "output_type": "display_data"
    },
    {
     "name": "stdout",
     "output_type": "stream",
     "text": [
      "{'train_loss': 0.0812472262326628, 'validation_loss': 0.2781584549229592, 'train_accuracy': 0.018046875, 'validation_accuracy': 0.001171875}\n",
      "model saved\n"
     ]
    },
    {
     "data": {
      "application/vnd.jupyter.widget-view+json": {
       "model_id": "",
       "version_major": 2,
       "version_minor": 0
      },
      "text/plain": [
       "  0%|          | 0/400 [00:00<?, ?it/s]"
      ]
     },
     "metadata": {},
     "output_type": "display_data"
    },
    {
     "name": "stdout",
     "output_type": "stream",
     "text": [
      "{'train_loss': 0.08026372330263257, 'validation_loss': 0.3258243994601071, 'train_accuracy': 0.0196484375, 'validation_accuracy': 0.0013671875}\n",
      "model saved\n"
     ]
    },
    {
     "data": {
      "application/vnd.jupyter.widget-view+json": {
       "model_id": "",
       "version_major": 2,
       "version_minor": 0
      },
      "text/plain": [
       "  0%|          | 0/400 [00:00<?, ?it/s]"
      ]
     },
     "metadata": {},
     "output_type": "display_data"
    },
    {
     "name": "stdout",
     "output_type": "stream",
     "text": [
      "{'train_loss': 0.07933897121809423, 'validation_loss': 0.3033177381567657, 'train_accuracy': 0.02140625, 'validation_accuracy': 0.0013671875}\n",
      "model saved\n"
     ]
    },
    {
     "data": {
      "application/vnd.jupyter.widget-view+json": {
       "model_id": "",
       "version_major": 2,
       "version_minor": 0
      },
      "text/plain": [
       "  0%|          | 0/400 [00:00<?, ?it/s]"
      ]
     },
     "metadata": {},
     "output_type": "display_data"
    },
    {
     "name": "stdout",
     "output_type": "stream",
     "text": [
      "{'train_loss': 0.0787629958242178, 'validation_loss': 0.32142393707297745, 'train_accuracy': 0.0226953125, 'validation_accuracy': 0.0009375}\n",
      "model saved\n"
     ]
    },
    {
     "data": {
      "application/vnd.jupyter.widget-view+json": {
       "model_id": "",
       "version_major": 2,
       "version_minor": 0
      },
      "text/plain": [
       "  0%|          | 0/400 [00:00<?, ?it/s]"
      ]
     },
     "metadata": {},
     "output_type": "display_data"
    },
    {
     "name": "stdout",
     "output_type": "stream",
     "text": [
      "{'train_loss': 0.0779600325692445, 'validation_loss': 0.28453425962477924, 'train_accuracy': 0.0231640625, 'validation_accuracy': 0.0010546875}\n",
      "model saved\n"
     ]
    },
    {
     "data": {
      "application/vnd.jupyter.widget-view+json": {
       "model_id": "",
       "version_major": 2,
       "version_minor": 0
      },
      "text/plain": [
       "  0%|          | 0/400 [00:00<?, ?it/s]"
      ]
     },
     "metadata": {},
     "output_type": "display_data"
    },
    {
     "name": "stdout",
     "output_type": "stream",
     "text": [
      "{'train_loss': 0.07666309247724712, 'validation_loss': 0.328346234401688, 'train_accuracy': 0.028828125, 'validation_accuracy': 0.001015625}\n",
      "model saved\n"
     ]
    },
    {
     "data": {
      "application/vnd.jupyter.widget-view+json": {
       "model_id": "",
       "version_major": 2,
       "version_minor": 0
      },
      "text/plain": [
       "  0%|          | 0/400 [00:00<?, ?it/s]"
      ]
     },
     "metadata": {},
     "output_type": "display_data"
    },
    {
     "name": "stdout",
     "output_type": "stream",
     "text": [
      "{'train_loss': 0.0763275360595435, 'validation_loss': 0.38723000111058353, 'train_accuracy': 0.0303515625, 'validation_accuracy': 0.0009765625}\n",
      "model saved\n"
     ]
    },
    {
     "data": {
      "application/vnd.jupyter.widget-view+json": {
       "model_id": "",
       "version_major": 2,
       "version_minor": 0
      },
      "text/plain": [
       "  0%|          | 0/400 [00:00<?, ?it/s]"
      ]
     },
     "metadata": {},
     "output_type": "display_data"
    },
    {
     "name": "stdout",
     "output_type": "stream",
     "text": [
      "{'train_loss': 0.0748955254163593, 'validation_loss': 0.3143841220159084, 'train_accuracy': 0.0324609375, 'validation_accuracy': 0.001015625}\n",
      "model saved\n"
     ]
    },
    {
     "data": {
      "application/vnd.jupyter.widget-view+json": {
       "model_id": "",
       "version_major": 2,
       "version_minor": 0
      },
      "text/plain": [
       "  0%|          | 0/400 [00:00<?, ?it/s]"
      ]
     },
     "metadata": {},
     "output_type": "display_data"
    },
    {
     "name": "stdout",
     "output_type": "stream",
     "text": [
      "{'train_loss': 0.07368572906590998, 'validation_loss': 0.33829461969435215, 'train_accuracy': 0.0362890625, 'validation_accuracy': 0.0010546875}\n",
      "model saved\n"
     ]
    },
    {
     "data": {
      "application/vnd.jupyter.widget-view+json": {
       "model_id": "",
       "version_major": 2,
       "version_minor": 0
      },
      "text/plain": [
       "  0%|          | 0/400 [00:00<?, ?it/s]"
      ]
     },
     "metadata": {},
     "output_type": "display_data"
    },
    {
     "name": "stdout",
     "output_type": "stream",
     "text": [
      "{'train_loss': 0.07203550511039794, 'validation_loss': 0.38407000558450816, 'train_accuracy': 0.0404296875, 'validation_accuracy': 0.001015625}\n",
      "model saved\n"
     ]
    },
    {
     "data": {
      "application/vnd.jupyter.widget-view+json": {
       "model_id": "",
       "version_major": 2,
       "version_minor": 0
      },
      "text/plain": [
       "  0%|          | 0/400 [00:00<?, ?it/s]"
      ]
     },
     "metadata": {},
     "output_type": "display_data"
    },
    {
     "name": "stdout",
     "output_type": "stream",
     "text": [
      "{'train_loss': 0.07017684053629637, 'validation_loss': 0.38635501303710046, 'train_accuracy': 0.044921875, 'validation_accuracy': 0.0009375}\n",
      "model saved\n"
     ]
    },
    {
     "data": {
      "application/vnd.jupyter.widget-view+json": {
       "model_id": "",
       "version_major": 2,
       "version_minor": 0
      },
      "text/plain": [
       "  0%|          | 0/400 [00:00<?, ?it/s]"
      ]
     },
     "metadata": {},
     "output_type": "display_data"
    },
    {
     "name": "stdout",
     "output_type": "stream",
     "text": [
      "{'train_loss': 0.06919548206031323, 'validation_loss': 0.36632429507561026, 'train_accuracy': 0.0481640625, 'validation_accuracy': 0.000859375}\n",
      "model saved\n"
     ]
    },
    {
     "data": {
      "application/vnd.jupyter.widget-view+json": {
       "model_id": "",
       "version_major": 2,
       "version_minor": 0
      },
      "text/plain": [
       "  0%|          | 0/400 [00:00<?, ?it/s]"
      ]
     },
     "metadata": {},
     "output_type": "display_data"
    },
    {
     "name": "stdout",
     "output_type": "stream",
     "text": [
      "{'train_loss': 0.06663346069864928, 'validation_loss': 0.4693893412780017, 'train_accuracy': 0.0553125, 'validation_accuracy': 0.000859375}\n",
      "model saved\n"
     ]
    },
    {
     "data": {
      "application/vnd.jupyter.widget-view+json": {
       "model_id": "",
       "version_major": 2,
       "version_minor": 0
      },
      "text/plain": [
       "  0%|          | 0/400 [00:00<?, ?it/s]"
      ]
     },
     "metadata": {},
     "output_type": "display_data"
    },
    {
     "name": "stdout",
     "output_type": "stream",
     "text": [
      "{'train_loss': 0.0652465561311692, 'validation_loss': 0.522057533627376, 'train_accuracy': 0.0621875, 'validation_accuracy': 0.0010546875}\n",
      "model saved\n"
     ]
    },
    {
     "data": {
      "application/vnd.jupyter.widget-view+json": {
       "model_id": "",
       "version_major": 2,
       "version_minor": 0
      },
      "text/plain": [
       "  0%|          | 0/400 [00:00<?, ?it/s]"
      ]
     },
     "metadata": {},
     "output_type": "display_data"
    },
    {
     "name": "stdout",
     "output_type": "stream",
     "text": [
      "{'train_loss': 0.06411079463548958, 'validation_loss': 0.6039677166286856, 'train_accuracy': 0.0685546875, 'validation_accuracy': 0.001171875}\n",
      "model saved\n"
     ]
    },
    {
     "data": {
      "application/vnd.jupyter.widget-view+json": {
       "model_id": "",
       "version_major": 2,
       "version_minor": 0
      },
      "text/plain": [
       "  0%|          | 0/400 [00:00<?, ?it/s]"
      ]
     },
     "metadata": {},
     "output_type": "display_data"
    },
    {
     "name": "stdout",
     "output_type": "stream",
     "text": [
      "{'train_loss': 0.06372015343979001, 'validation_loss': 0.4830069513618946, 'train_accuracy': 0.0701171875, 'validation_accuracy': 0.0010546875}\n",
      "model saved\n"
     ]
    },
    {
     "data": {
      "application/vnd.jupyter.widget-view+json": {
       "model_id": "",
       "version_major": 2,
       "version_minor": 0
      },
      "text/plain": [
       "  0%|          | 0/400 [00:00<?, ?it/s]"
      ]
     },
     "metadata": {},
     "output_type": "display_data"
    },
    {
     "name": "stdout",
     "output_type": "stream",
     "text": [
      "{'train_loss': 0.06186610935721546, 'validation_loss': 0.39614894294179975, 'train_accuracy': 0.0796875, 'validation_accuracy': 0.00125}\n",
      "model saved\n"
     ]
    }
   ],
   "source": [
    "#training and calculating loss\n",
    "\n",
    "\n",
    "def get_loss_and_correct(model, batch, criterion, device):\n",
    "    image = batch[0].to(device)\n",
    "    label = batch[1].to(device)\n",
    "    loss_labels = batch[2].to(device)\n",
    "    result = model(image)\n",
    "    #print(label.shape)\n",
    "  #aasdf\n",
    "\n",
    "    extra, predicted = torch.max(result.data, 1)\n",
    "\n",
    "  #print(predicted)\n",
    "  #print(label)\n",
    "  #print(extra.shape)\n",
    "  #print(predicted.shape)\n",
    "    correct_answers = (predicted  == label).sum().item() \n",
    "\n",
    "  #print(correct_answers)\n",
    "\n",
    "    loss = criterion(result, label)\n",
    "\n",
    "    #loss = loss/len(label)\n",
    "\n",
    "  #print(loss)\n",
    "\n",
    "    return loss, correct_answers\n",
    "\n",
    "\n",
    "def step(loss, optimizer):\n",
    "\n",
    "    optimizer.zero_grad()\n",
    "    loss.backward()\n",
    "    optimizer.step()\n",
    "\n",
    "\n",
    "\n",
    "N_EPOCHS = 50\n",
    "BATCH_SIZE = 64\n",
    "\n",
    "model = ResNet152()\n",
    "\n",
    "\n",
    "\n",
    "criterion = nn.CrossEntropyLoss()\n",
    "\n",
    "\n",
    "\n",
    "optimizer = torch.optim.Adam(model.parameters(), lr=0.0001, weight_decay=1e-4)\n",
    "\n",
    "\n",
    "\n",
    "\n",
    "if torch.cuda.is_available():\n",
    "    model = model.cuda()\n",
    "    criterion = criterion.cuda()\n",
    "    device = torch.device(\"cuda:0\")\n",
    "else:\n",
    "    device = torch.device(\"cpu\")\n",
    "\n",
    "train_losses = []\n",
    "train_accuracies = []\n",
    "validation_losses = []\n",
    "validation_accuracies = []\n",
    "\n",
    "pbar = tqdm(range(N_EPOCHS))\n",
    "\n",
    "for i in pbar:\n",
    "    total_train_loss = 0.0\n",
    "    total_train_correct = 0.0\n",
    "    total_validation_loss = 0.0\n",
    "    total_validation_correct = 0.0\n",
    "    \n",
    "    model.train()\n",
    "    for batch in tqdm(train_dataloader, leave = False):\n",
    "        loss, correct = get_loss_and_correct(model, batch, criterion, device)\n",
    "        step(loss, optimizer)\n",
    "        total_train_loss += loss.item()\n",
    "        #print(correct)\n",
    "        total_train_correct += correct\n",
    "\n",
    "    with torch.no_grad():\n",
    "        for batch in validation_dataloader:\n",
    "            loss, correct = get_loss_and_correct(model, batch, criterion, device)\n",
    "            total_validation_loss += loss.item()\n",
    "            total_validation_correct += correct\n",
    "        \n",
    "    mean_train_loss = total_train_loss / len(dataset)\n",
    "    train_accuracy = total_train_correct / len(dataset)\n",
    "\n",
    "    mean_validation_loss = total_validation_loss / len(dataset)\n",
    "    validation_accuracy = total_validation_correct / len(dataset)\n",
    "\n",
    "    train_losses.append(mean_train_loss)\n",
    "    validation_losses.append(mean_validation_loss)\n",
    "\n",
    "    train_accuracies.append(train_accuracy)\n",
    "    validation_accuracies.append(validation_accuracy)\n",
    "\n",
    "    print({'train_loss': mean_train_loss, 'validation_loss': mean_validation_loss, 'train_accuracy': train_accuracy, 'validation_accuracy': validation_accuracy})\n",
    "    \n",
    "    \n",
    "    \n",
    "    \n",
    "    #saving the models\n",
    "    \n",
    "    torch.save(model.cpu().state_dict(), 'model.pth')\n",
    "    model.cuda()\n",
    "    print('model saved')"
   ]
  },
  {
   "cell_type": "raw",
   "id": "b66cb0ff",
   "metadata": {},
   "source": [
    "#"
   ]
  }
 ],
 "metadata": {
  "kernelspec": {
   "display_name": "Python 3",
   "language": "python",
   "name": "python3"
  },
  "language_info": {
   "codemirror_mode": {
    "name": "ipython",
    "version": 3
   },
   "file_extension": ".py",
   "mimetype": "text/x-python",
   "name": "python",
   "nbconvert_exporter": "python",
   "pygments_lexer": "ipython3",
   "version": "3.8.5"
  }
 },
 "nbformat": 4,
 "nbformat_minor": 5
}
